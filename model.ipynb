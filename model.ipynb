{
 "cells": [
  {
   "cell_type": "code",
   "execution_count": null,
   "metadata": {},
   "outputs": [],
   "source": [
    "from sklearn.pipeline import Pipeline, FunctionTransformer, make_pipeline\n",
    "from sklearn.impute import SimpleImputer\n",
    "from sklearn.compose import ColumnTransformer\n",
    "from sklearn.preprocessing import StandardScaler, OneHotEncoder, OrdinalEncoder\n",
    "from sklearn.linear_model import LinearRegression, Lasso\n",
    "from sklearn.ensemble import RandomForestRegressor\n",
    "from sklearn.metrics import mean_squared_error, mean_absolute_error, r2_score\n",
    "\n",
    "# TODO: add log pipeline\n",
    "log_pipeline = Pipeline([\n",
    "    # ('impute', SimpleImputer(strategy='constant', fill_value=0)),\n",
    "    ('log_transform', FunctionTransformer(np.log, feature_names_out='one-to-one')),\n",
    "    ('standardize', StandardScaler())\n",
    "])\n",
    "numerical_pipeline = Pipeline([\n",
    "    ('impute', SimpleImputer(strategy='constant', fill_value=0)),\n",
    "    ('standarize', StandardScaler())\n",
    "])\n",
    "categorical_pipeline = Pipeline([\n",
    "    ('impute', SimpleImputer(strategy='constant', fill_value=0)),\n",
    "    ('encode', OneHotEncoder(handle_unknown='ignore'))\n",
    "])\n",
    "ordinal_pipeline = Pipeline([\n",
    "    ('encode', OrdinalEncoder())\n",
    "])\n",
    "\n",
    "preprocessing = ColumnTransformer([\n",
    "    ('cat', categorical_pipeline, categorical_cols),\n",
    "    ('ord', ordinal_pipeline, ordinal_cols),\n",
    "],remainder=numerical_pipeline)\n",
    "\n",
    "model = make_pipeline(preprocessing, Lasso(max_iter=10000))\n",
    "model.fit(train_set.drop(columns=target_cols), train_set['BTUEL'])\n",
    "predictions = model.predict(train_set.drop(columns=target_cols))"
   ]
  }
 ],
 "metadata": {
  "language_info": {
   "name": "python"
  }
 },
 "nbformat": 4,
 "nbformat_minor": 2
}
